{
 "cells": [
  {
   "cell_type": "markdown",
   "metadata": {},
   "source": [
    "# **FEDE's \"Seg and Clust Neighborhoods in Toronto\"**"
   ]
  },
  {
   "cell_type": "markdown",
   "metadata": {},
   "source": [
    "Segmenting and Clustering Neighborhoods in Toronto"
   ]
  },
  {
   "cell_type": "markdown",
   "metadata": {},
   "source": [
    "## Objectives"
   ]
  },
  {
   "cell_type": "markdown",
   "metadata": {},
   "source": [
    "For this assignment, I will be exploring and clustering the neighborhoods in Toronto."
   ]
  },
  {
   "cell_type": "markdown",
   "metadata": {},
   "source": [
    "This lab is splitted in parts, I divided the activity as indicated in the instructions. Then, the parts and contents are the following:\n",
    "\n",
    "PART 1: Scrapping and building the dataframe\n",
    "\n",
    "PART 2: Obtaining Coordinates\n",
    "\n",
    "PART 3: Explore and Cluster"
   ]
  },
  {
   "cell_type": "markdown",
   "metadata": {},
   "source": [
    "## PART 2: Obtaining Coordinates"
   ]
  },
  {
   "cell_type": "markdown",
   "metadata": {},
   "source": [
    "#### First of all, I read the dataframe generated in the PART 1. Wich contains the Postal Code, Borough and Neigborhoods in Toronto."
   ]
  },
  {
   "cell_type": "code",
   "execution_count": 1,
   "metadata": {},
   "outputs": [],
   "source": [
    "import pandas as pd"
   ]
  },
  {
   "cell_type": "code",
   "execution_count": 2,
   "metadata": {},
   "outputs": [],
   "source": [
    "df_2 = pd.read_csv(\"df_1.csv\", index_col=[0])"
   ]
  },
  {
   "cell_type": "code",
   "execution_count": 3,
   "metadata": {},
   "outputs": [
    {
     "data": {
      "text/html": [
       "<div>\n",
       "<style scoped>\n",
       "    .dataframe tbody tr th:only-of-type {\n",
       "        vertical-align: middle;\n",
       "    }\n",
       "\n",
       "    .dataframe tbody tr th {\n",
       "        vertical-align: top;\n",
       "    }\n",
       "\n",
       "    .dataframe thead th {\n",
       "        text-align: right;\n",
       "    }\n",
       "</style>\n",
       "<table border=\"1\" class=\"dataframe\">\n",
       "  <thead>\n",
       "    <tr style=\"text-align: right;\">\n",
       "      <th></th>\n",
       "      <th>PostalCode</th>\n",
       "      <th>Borough</th>\n",
       "      <th>Neighborhood</th>\n",
       "    </tr>\n",
       "  </thead>\n",
       "  <tbody>\n",
       "    <tr>\n",
       "      <th>0</th>\n",
       "      <td>M3A</td>\n",
       "      <td>North York</td>\n",
       "      <td>Parkwoods</td>\n",
       "    </tr>\n",
       "    <tr>\n",
       "      <th>1</th>\n",
       "      <td>M4A</td>\n",
       "      <td>North York</td>\n",
       "      <td>Victoria Village</td>\n",
       "    </tr>\n",
       "    <tr>\n",
       "      <th>2</th>\n",
       "      <td>M5A</td>\n",
       "      <td>Downtown Toronto</td>\n",
       "      <td>Regent Park, Harbourfront</td>\n",
       "    </tr>\n",
       "    <tr>\n",
       "      <th>3</th>\n",
       "      <td>M6A</td>\n",
       "      <td>North York</td>\n",
       "      <td>Lawrence Manor, Lawrence Heights</td>\n",
       "    </tr>\n",
       "    <tr>\n",
       "      <th>4</th>\n",
       "      <td>M7A</td>\n",
       "      <td>Queen's Park</td>\n",
       "      <td>Ontario Provincial Government</td>\n",
       "    </tr>\n",
       "  </tbody>\n",
       "</table>\n",
       "</div>"
      ],
      "text/plain": [
       "  PostalCode           Borough                      Neighborhood\n",
       "0        M3A        North York                         Parkwoods\n",
       "1        M4A        North York                  Victoria Village\n",
       "2        M5A  Downtown Toronto         Regent Park, Harbourfront\n",
       "3        M6A        North York  Lawrence Manor, Lawrence Heights\n",
       "4        M7A      Queen's Park     Ontario Provincial Government"
      ]
     },
     "execution_count": 3,
     "metadata": {},
     "output_type": "execute_result"
    }
   ],
   "source": [
    "df_2.head()"
   ]
  },
  {
   "cell_type": "markdown",
   "metadata": {},
   "source": [
    "#### Use geopy library to get the latitude and longitude values of the postal codes."
   ]
  },
  {
   "cell_type": "code",
   "execution_count": 5,
   "metadata": {},
   "outputs": [],
   "source": [
    "#!conda install -c conda-forge geopy --yes\n",
    "#!conda install -c conda-forge geocoder"
   ]
  },
  {
   "cell_type": "code",
   "execution_count": 6,
   "metadata": {},
   "outputs": [],
   "source": [
    "#!pip install geocoder"
   ]
  },
  {
   "cell_type": "code",
   "execution_count": 7,
   "metadata": {},
   "outputs": [],
   "source": [
    "import geocoder # import geocoder"
   ]
  },
  {
   "cell_type": "code",
   "execution_count": 8,
   "metadata": {},
   "outputs": [
    {
     "name": "stdout",
     "output_type": "stream",
     "text": [
      "M3A [43.75245000000007, -79.32990999999998]\n",
      "M4A [43.73057000000006, -79.31305999999995]\n",
      "M5A [43.65512000000007, -79.36263999999994]\n",
      "M6A [43.72327000000007, -79.45041999999995]\n",
      "M7A [43.66253000000006, -79.39187999999996]\n",
      "M9A [43.662630000000036, -79.52830999999998]\n",
      "M1B [43.811390000000074, -79.19661999999994]\n",
      "M3B [43.74923000000007, -79.36185999999998]\n",
      "M4B [43.70718000000005, -79.31191999999999]\n",
      "M5B [43.65739000000008, -79.37803999999994]\n",
      "M6B [43.70687000000004, -79.44811999999996]\n",
      "M9B [43.65034000000003, -79.55361999999997]\n",
      "M1C [43.78574000000003, -79.15874999999994]\n",
      "M3C [43.72168000000005, -79.34351999999996]\n",
      "M4C [43.68970000000007, -79.30681999999996]\n",
      "M5C [43.65215000000006, -79.37586999999996]\n",
      "M6C [43.69211000000007, -79.43035999999995]\n",
      "M9C [43.64857000000006, -79.57824999999997]\n",
      "M1E [43.765750000000025, -79.17469999999997]\n",
      "M4E [43.67709000000008, -79.29546999999997]\n",
      "M5E [43.64536000000004, -79.37305999999995]\n",
      "M6E [43.68784000000005, -79.45045999999996]\n",
      "M1G [43.76812000000007, -79.21760999999998]\n",
      "M4G [43.709020000000066, -79.36348999999996]\n",
      "M5G [43.65609000000006, -79.38492999999994]\n",
      "M6G [43.668690000000026, -79.42070999999999]\n",
      "M1H [43.76944000000003, -79.23891999999995]\n",
      "M2H [43.80225000000007, -79.35557999999997]\n",
      "M3H [43.75788000000006, -79.44846999999999]\n",
      "M4H [43.70142000000004, -79.34904999999998]\n",
      "M5H [43.64970000000005, -79.38257999999996]\n",
      "M6H [43.665050000000065, -79.43890999999996]\n",
      "M1J [43.74446000000006, -79.23116999999996]\n",
      "M2J [43.780970000000025, -79.34780999999998]\n",
      "M3J [43.76476000000008, -79.48797999999994]\n",
      "M4J [43.68811000000005, -79.33417999999995]\n",
      "M5J [43.64285000000007, -79.38075999999995]\n",
      "M6J [43.64848000000006, -79.41773999999998]\n",
      "M1K [43.725820000000056, -79.26460999999995]\n",
      "M2K [43.781120000000044, -79.38059999999996]\n",
      "M3K [43.73384000000004, -79.46827999999994]\n",
      "M4K [43.68375000000003, -79.35511999999994]\n",
      "M5K [43.64710000000008, -79.38152999999994]\n",
      "M6K [43.639410000000055, -79.42675999999994]\n",
      "M1L [43.71289000000007, -79.28505999999999]\n",
      "M2L [43.756980000000055, -79.38059999999996]\n",
      "M3L [43.720710000000054, -79.51700999999997]\n",
      "M4L [43.667970000000025, -79.31466999999998]\n",
      "M5L [43.64840000000004, -79.37913999999995]\n",
      "M6L [43.71381000000008, -79.48873999999995]\n",
      "M9L [43.75948000000005, -79.55706999999995]\n",
      "M1M [43.72360000000003, -79.23495999999994]\n",
      "M2M [43.79182000000003, -79.41371999999996]\n",
      "M3M [43.73224000000005, -79.50177999999994]\n",
      "M4M [43.66213000000005, -79.33496999999994]\n",
      "M5M [43.73545000000007, -79.41915999999998]\n",
      "M6M [43.695170000000076, -79.48396999999994]\n",
      "M9M [43.733670000000075, -79.53768999999994]\n",
      "M1N [43.695100000000025, -79.26465999999994]\n",
      "M2N [43.76774000000006, -79.40727999999996]\n",
      "M3N [43.75478000000004, -79.51958999999994]\n",
      "M4N [43.72843000000006, -79.38712999999996]\n",
      "M5N [43.71208000000007, -79.41847999999999]\n",
      "M6N [43.67646000000008, -79.48271999999997]\n",
      "M9N [43.705070000000035, -79.51803999999998]\n",
      "M1P [43.75998000000004, -79.26939999999996]\n",
      "M2P [43.747780000000034, -79.40032999999994]\n",
      "M4P [43.71276000000006, -79.38850999999994]\n",
      "M5P [43.69479000000007, -79.41439999999994]\n",
      "M6P [43.659730000000025, -79.46280999999993]\n",
      "M9P [43.696300000000065, -79.52925999999997]\n",
      "M1R [43.75075000000004, -79.30053999999996]\n",
      "M2R [43.77989000000008, -79.44677999999999]\n",
      "M4R [43.71458000000007, -79.40667999999994]\n",
      "M5R [43.674840000000074, -79.40451999999993]\n",
      "M6R [43.64777000000004, -79.44988999999998]\n",
      "M7R [43.648690000000045, -79.38543999999996]\n",
      "M9R [43.68681000000004, -79.55727999999993]\n",
      "M1S [43.794520000000034, -79.26707999999996]\n",
      "M4S [43.703400000000045, -79.38658999999996]\n",
      "M5S [43.663110000000074, -79.40179999999998]\n",
      "M6S [43.649820000000034, -79.47547999999995]\n",
      "M1T [43.784910000000025, -79.29721999999998]\n",
      "M4T [43.690480000000036, -79.38317999999998]\n",
      "M5T [43.65351000000004, -79.39721999999995]\n",
      "M1V [43.817810000000065, -79.28043999999994]\n",
      "M4V [43.68568000000005, -79.40236999999996]\n",
      "M5V [43.640820000000076, -79.39817999999997]\n",
      "M8V [43.60987000000006, -79.49808999999993]\n",
      "M9V [43.744530000000054, -79.58623999999998]\n",
      "M1W [43.80079000000006, -79.32161999999994]\n",
      "M4W [43.68190000000004, -79.37828999999994]\n",
      "M5W [43.648690000000045, -79.38543999999996]\n",
      "M8W [43.601240000000075, -79.53878999999995]\n",
      "M9W [43.71174000000008, -79.57940999999994]\n",
      "M1X [43.83412000000004, -79.21667999999994]\n",
      "M4X [43.667880000000025, -79.36648999999994]\n",
      "M5X [43.64828000000006, -79.38145999999995]\n",
      "M8X [43.65319000000005, -79.51112999999998]\n",
      "M4Y [43.66659000000004, -79.38132999999993]\n",
      "M7Y [43.648690000000045, -79.38543999999996]\n",
      "M8Y [43.632780000000025, -79.48944999999998]\n",
      "M8Z [43.62513000000007, -79.52680999999995]\n"
     ]
    }
   ],
   "source": [
    "latitude=[]\n",
    "longitude=[]\n",
    "\n",
    "for code in df_2['PostalCode']:\n",
    "    g = geocoder.arcgis('{}, Toronto, Ontario'.format(code))\n",
    "    #print(code, g.latlng)\n",
    "    while (g.latlng is None):\n",
    "        g = geocoder.google('{}, Toronto, Ontario'.format(code))\n",
    "        #print(code, g.latlng)\n",
    "    latlng = g.latlng\n",
    "    latitude.append(latlng[0])\n",
    "    longitude.append(latlng[1])"
   ]
  },
  {
   "cell_type": "code",
   "execution_count": 9,
   "metadata": {},
   "outputs": [],
   "source": [
    "df_2['Latitude']=latitude\n",
    "df_2['Longitude']=longitude"
   ]
  },
  {
   "cell_type": "code",
   "execution_count": 10,
   "metadata": {},
   "outputs": [
    {
     "data": {
      "text/html": [
       "<div>\n",
       "<style scoped>\n",
       "    .dataframe tbody tr th:only-of-type {\n",
       "        vertical-align: middle;\n",
       "    }\n",
       "\n",
       "    .dataframe tbody tr th {\n",
       "        vertical-align: top;\n",
       "    }\n",
       "\n",
       "    .dataframe thead th {\n",
       "        text-align: right;\n",
       "    }\n",
       "</style>\n",
       "<table border=\"1\" class=\"dataframe\">\n",
       "  <thead>\n",
       "    <tr style=\"text-align: right;\">\n",
       "      <th></th>\n",
       "      <th>PostalCode</th>\n",
       "      <th>Borough</th>\n",
       "      <th>Neighborhood</th>\n",
       "      <th>Latitude</th>\n",
       "      <th>Longitude</th>\n",
       "    </tr>\n",
       "  </thead>\n",
       "  <tbody>\n",
       "    <tr>\n",
       "      <th>0</th>\n",
       "      <td>M3A</td>\n",
       "      <td>North York</td>\n",
       "      <td>Parkwoods</td>\n",
       "      <td>43.75245</td>\n",
       "      <td>-79.32991</td>\n",
       "    </tr>\n",
       "    <tr>\n",
       "      <th>1</th>\n",
       "      <td>M4A</td>\n",
       "      <td>North York</td>\n",
       "      <td>Victoria Village</td>\n",
       "      <td>43.73057</td>\n",
       "      <td>-79.31306</td>\n",
       "    </tr>\n",
       "    <tr>\n",
       "      <th>2</th>\n",
       "      <td>M5A</td>\n",
       "      <td>Downtown Toronto</td>\n",
       "      <td>Regent Park, Harbourfront</td>\n",
       "      <td>43.65512</td>\n",
       "      <td>-79.36264</td>\n",
       "    </tr>\n",
       "    <tr>\n",
       "      <th>3</th>\n",
       "      <td>M6A</td>\n",
       "      <td>North York</td>\n",
       "      <td>Lawrence Manor, Lawrence Heights</td>\n",
       "      <td>43.72327</td>\n",
       "      <td>-79.45042</td>\n",
       "    </tr>\n",
       "    <tr>\n",
       "      <th>4</th>\n",
       "      <td>M7A</td>\n",
       "      <td>Queen's Park</td>\n",
       "      <td>Ontario Provincial Government</td>\n",
       "      <td>43.66253</td>\n",
       "      <td>-79.39188</td>\n",
       "    </tr>\n",
       "  </tbody>\n",
       "</table>\n",
       "</div>"
      ],
      "text/plain": [
       "  PostalCode           Borough                      Neighborhood  Latitude  \\\n",
       "0        M3A        North York                         Parkwoods  43.75245   \n",
       "1        M4A        North York                  Victoria Village  43.73057   \n",
       "2        M5A  Downtown Toronto         Regent Park, Harbourfront  43.65512   \n",
       "3        M6A        North York  Lawrence Manor, Lawrence Heights  43.72327   \n",
       "4        M7A      Queen's Park     Ontario Provincial Government  43.66253   \n",
       "\n",
       "   Longitude  \n",
       "0  -79.32991  \n",
       "1  -79.31306  \n",
       "2  -79.36264  \n",
       "3  -79.45042  \n",
       "4  -79.39188  "
      ]
     },
     "execution_count": 10,
     "metadata": {},
     "output_type": "execute_result"
    }
   ],
   "source": [
    "df_2.head()"
   ]
  },
  {
   "cell_type": "code",
   "execution_count": 11,
   "metadata": {},
   "outputs": [
    {
     "data": {
      "text/plain": [
       "(103, 5)"
      ]
     },
     "execution_count": 11,
     "metadata": {},
     "output_type": "execute_result"
    }
   ],
   "source": [
    "df_2.shape"
   ]
  },
  {
   "cell_type": "markdown",
   "metadata": {},
   "source": [
    "Save the dataframe for using in next parts of the activity:"
   ]
  },
  {
   "cell_type": "code",
   "execution_count": 14,
   "metadata": {},
   "outputs": [],
   "source": [
    "df_2.to_csv(\"df_2.csv\")"
   ]
  },
  {
   "cell_type": "markdown",
   "metadata": {},
   "source": [
    "## Author"
   ]
  },
  {
   "cell_type": "markdown",
   "metadata": {},
   "source": [
    "Federico Sarrailh"
   ]
  }
 ],
 "metadata": {
  "kernelspec": {
   "display_name": "Python 3",
   "language": "python",
   "name": "python3"
  },
  "language_info": {
   "codemirror_mode": {
    "name": "ipython",
    "version": 3
   },
   "file_extension": ".py",
   "mimetype": "text/x-python",
   "name": "python",
   "nbconvert_exporter": "python",
   "pygments_lexer": "ipython3",
   "version": "3.8.3"
  }
 },
 "nbformat": 4,
 "nbformat_minor": 4
}
